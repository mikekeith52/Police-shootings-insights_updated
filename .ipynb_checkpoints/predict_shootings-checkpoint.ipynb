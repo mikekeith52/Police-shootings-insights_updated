{
 "cells": [
  {
   "cell_type": "code",
   "execution_count": null,
   "metadata": {},
   "outputs": [],
   "source": [
    "### required imports\n",
    "\n",
    "## from anaconda standard lib\n",
    "import pandas as pd\n",
    "import numpy as np\n",
    "import os\n",
    "import sys\n",
    "import warnings\n",
    "import statsmodels.api as sm\n",
    "from itertools import product\n",
    "\n",
    "# data vis\n",
    "import matplotlib.pyplot as plt\n",
    "import seaborn as sns\n",
    "\n",
    "# sklearn\n",
    "from sklearn.metrics import confusion_matrix\n",
    "from sklearn.metrics import classification_report\n",
    "from sklearn.metrics import roc_auc_score\n",
    "from sklearn.metrics import roc_curve\n",
    "from sklearn.neighbors import KNeighborsClassifier\n",
    "from sklearn.linear_model import LogisticRegression\n",
    "from sklearn.model_selection import train_test_split\n",
    "from sklearn.model_selection import cross_val_score\n",
    "from sklearn.ensemble import RandomForestClassifier\n",
    "from sklearn.tree import export_graphviz\n",
    "from sklearn.exceptions import DataConversionWarning\n",
    "\n",
    "## required installations\n",
    "import pydot\n",
    "from tqdm import tqdm"
   ]
  },
  {
   "cell_type": "code",
   "execution_count": 2,
   "metadata": {},
   "outputs": [
    {
     "data": {
      "text/plain": [
       "'3.7.4 (default, Aug  9 2019, 18:34:13) [MSC v.1915 64 bit (AMD64)]'"
      ]
     },
     "execution_count": 2,
     "metadata": {},
     "output_type": "execute_result"
    }
   ],
   "source": [
    "sys.version"
   ]
  },
  {
   "cell_type": "code",
   "execution_count": 3,
   "metadata": {},
   "outputs": [],
   "source": [
    "# change max display settings to none\n",
    "pd.options.display.max_rows = None\n",
    "pd.options.display.max_columns = None"
   ]
  },
  {
   "cell_type": "code",
   "execution_count": 4,
   "metadata": {},
   "outputs": [],
   "source": [
    "# turn off a warning so we can cross-validate easier\n",
    "warnings.filterwarnings(action='ignore', category=DataConversionWarning)"
   ]
  },
  {
   "cell_type": "code",
   "execution_count": 5,
   "metadata": {},
   "outputs": [],
   "source": [
    "# dynamic dataframe class\n",
    "class ddf(pd.core.frame.DataFrame):\n",
    "    \"\"\" pandas dataframe with two extra methods\n",
    "        dummy for creating 0/1 binary variables\n",
    "        impute_na which uses K Nearest Neighbor to fill in NA values\n",
    "    \"\"\"\n",
    "    def dummy(self,col,exclude_values=[],drop_na=False,exclude_na_levels=False,na_levels=np.NaN,keep_original_col=False,sep=\":\"):\n",
    "        \"\"\" creates dummy (0/1 variable)\n",
    "            col is the column you want dummied -- will return as many columns as there are unique values in the column so choose carefully\n",
    "            exclude_values is a lit of values in that column you want ignored when making dummy columns, you can make this your excluded level\n",
    "            drop_na is if you want null values droped -- if True, will reduce the number of rows in your dataframe\n",
    "            exclude_na_levels is if you want your na_levels ignored (meaning no dummy will be made for them)\n",
    "            na_levels is a user-defined NA level (you can tell it what you want considered null, such as \"nan\")\n",
    "            keep_original_col -- if False, the column being dummied will disappear\n",
    "            sep is how you want the new column names separated (new column name will be the old column name + sep + unique value)\n",
    "        \"\"\"\n",
    "        pd.options.mode.chained_assignment = None\n",
    "        if drop_na == True:\n",
    "            self = self.loc[self[col].isnull() == False]\n",
    "        else:\n",
    "            self[col].loc[self[col].isnull() == True] = na_levels\n",
    "            if exclude_na_levels == True:\n",
    "                exclude_values.append(na_levels)\n",
    "\n",
    "        self[col] = self[col].astype(str)\n",
    "\n",
    "        for val in self[col].unique():\n",
    "            if not val in exclude_values:\n",
    "                self[f'{col}{sep}{val}'] = 0\n",
    "                self[f'{col}{sep}{val}'].loc[self[col] == val] = 1\n",
    "\n",
    "        if keep_original_col == False:\n",
    "            self.drop(columns=[col],inplace=True)\n",
    "\n",
    "    def impute_na(self,col,exclude=[]):\n",
    "        \"\"\" uses K-nearest neighbors to fill in missing values\n",
    "            automatically decides which columns (numerics only) to use as predictors\n",
    "            a better way to do this is Midas, but this is quick and easy\n",
    "        \"\"\"\n",
    "        predictors=[e for e in self.columns if len(self[e].dropna())==len(self[e])] # predictor columns can have no NAs\n",
    "        predictors=[e for e in predictors if e != col] # predictor columns cannot be the same as the column to impute (this should be taken care of in the line above, but jic)\n",
    "        predictors=[e for e in predictors if self[e].dtype in (np.int32,np.int64,np.float32,np.float64,int,float)] # predictor columns must be numeric -- good idea to dummify as many columns as possible\n",
    "        predictors=[e for e in predictors if e not in exclude] # manually exclude columns (like a dep var)\n",
    "        clf = KNeighborsClassifier(3, weights='distance')\n",
    "\n",
    "        df_complete = self.loc[self[col].isnull()==False]\n",
    "        df_nulls = self.loc[self[col].isnull()]\n",
    "\n",
    "        trained_model = clf.fit(df_complete[predictors],df_complete[col])\n",
    "        imputed_values = trained_model.predict(df_nulls[predictors])\n",
    "        df_nulls[col] = imputed_values\n",
    "\n",
    "        self[col] = df_complete[col].append(df_nulls[col],ignore_index=False) # preserve index order\n",
    "\n",
    "    def dummy_regex(self,col,regex_expr=[],sep=':r:'):\n",
    "        \"\"\" this creates a dummy (0/1) variable based on if given phrases (regex_expr) is in the col\n",
    "            regex_expr should be list type\n",
    "            sep is how the new column name will be separated\n",
    "        \"\"\"\n",
    "        self[col+sep+'|'.join(regex_expr)] = self[col].astype(str).str.contains('|'.join(regex_expr)).astype(int)"
   ]
  },
  {
   "cell_type": "markdown",
   "metadata": {},
   "source": [
    "## Read Data"
   ]
  },
  {
   "cell_type": "code",
   "execution_count": 6,
   "metadata": {},
   "outputs": [],
   "source": [
    "# download data directly from github online and save output locally\n",
    "data = pd.read_csv('https://raw.githubusercontent.com/washingtonpost/data-police-shootings/master/fatal-police-shootings-data.csv')\n",
    "data.to_csv('data.csv',index=False)"
   ]
  },
  {
   "cell_type": "code",
   "execution_count": 7,
   "metadata": {},
   "outputs": [
    {
     "data": {
      "text/html": [
       "<div>\n",
       "<style scoped>\n",
       "    .dataframe tbody tr th:only-of-type {\n",
       "        vertical-align: middle;\n",
       "    }\n",
       "\n",
       "    .dataframe tbody tr th {\n",
       "        vertical-align: top;\n",
       "    }\n",
       "\n",
       "    .dataframe thead th {\n",
       "        text-align: right;\n",
       "    }\n",
       "</style>\n",
       "<table border=\"1\" class=\"dataframe\">\n",
       "  <thead>\n",
       "    <tr style=\"text-align: right;\">\n",
       "      <th></th>\n",
       "      <th>id</th>\n",
       "      <th>name</th>\n",
       "      <th>date</th>\n",
       "      <th>manner_of_death</th>\n",
       "      <th>armed</th>\n",
       "      <th>age</th>\n",
       "      <th>gender</th>\n",
       "      <th>race</th>\n",
       "      <th>city</th>\n",
       "      <th>state</th>\n",
       "      <th>signs_of_mental_illness</th>\n",
       "      <th>threat_level</th>\n",
       "      <th>flee</th>\n",
       "      <th>body_camera</th>\n",
       "    </tr>\n",
       "  </thead>\n",
       "  <tbody>\n",
       "    <tr>\n",
       "      <td>0</td>\n",
       "      <td>3</td>\n",
       "      <td>Tim Elliot</td>\n",
       "      <td>2015-01-02</td>\n",
       "      <td>shot</td>\n",
       "      <td>gun</td>\n",
       "      <td>53.0</td>\n",
       "      <td>M</td>\n",
       "      <td>A</td>\n",
       "      <td>Shelton</td>\n",
       "      <td>WA</td>\n",
       "      <td>True</td>\n",
       "      <td>attack</td>\n",
       "      <td>Not fleeing</td>\n",
       "      <td>False</td>\n",
       "    </tr>\n",
       "    <tr>\n",
       "      <td>1</td>\n",
       "      <td>4</td>\n",
       "      <td>Lewis Lee Lembke</td>\n",
       "      <td>2015-01-02</td>\n",
       "      <td>shot</td>\n",
       "      <td>gun</td>\n",
       "      <td>47.0</td>\n",
       "      <td>M</td>\n",
       "      <td>W</td>\n",
       "      <td>Aloha</td>\n",
       "      <td>OR</td>\n",
       "      <td>False</td>\n",
       "      <td>attack</td>\n",
       "      <td>Not fleeing</td>\n",
       "      <td>False</td>\n",
       "    </tr>\n",
       "    <tr>\n",
       "      <td>2</td>\n",
       "      <td>5</td>\n",
       "      <td>John Paul Quintero</td>\n",
       "      <td>2015-01-03</td>\n",
       "      <td>shot and Tasered</td>\n",
       "      <td>unarmed</td>\n",
       "      <td>23.0</td>\n",
       "      <td>M</td>\n",
       "      <td>H</td>\n",
       "      <td>Wichita</td>\n",
       "      <td>KS</td>\n",
       "      <td>False</td>\n",
       "      <td>other</td>\n",
       "      <td>Not fleeing</td>\n",
       "      <td>False</td>\n",
       "    </tr>\n",
       "    <tr>\n",
       "      <td>3</td>\n",
       "      <td>8</td>\n",
       "      <td>Matthew Hoffman</td>\n",
       "      <td>2015-01-04</td>\n",
       "      <td>shot</td>\n",
       "      <td>toy weapon</td>\n",
       "      <td>32.0</td>\n",
       "      <td>M</td>\n",
       "      <td>W</td>\n",
       "      <td>San Francisco</td>\n",
       "      <td>CA</td>\n",
       "      <td>True</td>\n",
       "      <td>attack</td>\n",
       "      <td>Not fleeing</td>\n",
       "      <td>False</td>\n",
       "    </tr>\n",
       "    <tr>\n",
       "      <td>4</td>\n",
       "      <td>9</td>\n",
       "      <td>Michael Rodriguez</td>\n",
       "      <td>2015-01-04</td>\n",
       "      <td>shot</td>\n",
       "      <td>nail gun</td>\n",
       "      <td>39.0</td>\n",
       "      <td>M</td>\n",
       "      <td>H</td>\n",
       "      <td>Evans</td>\n",
       "      <td>CO</td>\n",
       "      <td>False</td>\n",
       "      <td>attack</td>\n",
       "      <td>Not fleeing</td>\n",
       "      <td>False</td>\n",
       "    </tr>\n",
       "  </tbody>\n",
       "</table>\n",
       "</div>"
      ],
      "text/plain": [
       "   id                name        date   manner_of_death       armed   age  \\\n",
       "0   3          Tim Elliot  2015-01-02              shot         gun  53.0   \n",
       "1   4    Lewis Lee Lembke  2015-01-02              shot         gun  47.0   \n",
       "2   5  John Paul Quintero  2015-01-03  shot and Tasered     unarmed  23.0   \n",
       "3   8     Matthew Hoffman  2015-01-04              shot  toy weapon  32.0   \n",
       "4   9   Michael Rodriguez  2015-01-04              shot    nail gun  39.0   \n",
       "\n",
       "  gender race           city state  signs_of_mental_illness threat_level  \\\n",
       "0      M    A        Shelton    WA                     True       attack   \n",
       "1      M    W          Aloha    OR                    False       attack   \n",
       "2      M    H        Wichita    KS                    False        other   \n",
       "3      M    W  San Francisco    CA                     True       attack   \n",
       "4      M    H          Evans    CO                    False       attack   \n",
       "\n",
       "          flee  body_camera  \n",
       "0  Not fleeing        False  \n",
       "1  Not fleeing        False  \n",
       "2  Not fleeing        False  \n",
       "3  Not fleeing        False  \n",
       "4  Not fleeing        False  "
      ]
     },
     "execution_count": 7,
     "metadata": {},
     "output_type": "execute_result"
    }
   ],
   "source": [
    "# view data\n",
    "data.head()"
   ]
  },
  {
   "cell_type": "code",
   "execution_count": 8,
   "metadata": {},
   "outputs": [],
   "source": [
    "# subset down to black and white race only\n",
    "data = data.loc[data['race'].isin(['W','B'])].reset_index(drop=True)"
   ]
  },
  {
   "cell_type": "code",
   "execution_count": 9,
   "metadata": {},
   "outputs": [
    {
     "data": {
      "text/html": [
       "<div>\n",
       "<style scoped>\n",
       "    .dataframe tbody tr th:only-of-type {\n",
       "        vertical-align: middle;\n",
       "    }\n",
       "\n",
       "    .dataframe tbody tr th {\n",
       "        vertical-align: top;\n",
       "    }\n",
       "\n",
       "    .dataframe thead th {\n",
       "        text-align: right;\n",
       "    }\n",
       "</style>\n",
       "<table border=\"1\" class=\"dataframe\">\n",
       "  <thead>\n",
       "    <tr style=\"text-align: right;\">\n",
       "      <th></th>\n",
       "      <th>State.Territory</th>\n",
       "      <th>Pop.1990</th>\n",
       "      <th>pop1990</th>\n",
       "      <th>Pop.2000</th>\n",
       "      <th>pop2000</th>\n",
       "      <th>Pop.2010</th>\n",
       "      <th>pop2010</th>\n",
       "      <th>Pop.2012</th>\n",
       "      <th>pop2012</th>\n",
       "      <th>growth.2000.2012</th>\n",
       "      <th>pop1990.2012</th>\n",
       "      <th>state_abb</th>\n",
       "    </tr>\n",
       "  </thead>\n",
       "  <tbody>\n",
       "    <tr>\n",
       "      <td>0</td>\n",
       "      <td>Alabama</td>\n",
       "      <td>2,960,167</td>\n",
       "      <td>73.3%</td>\n",
       "      <td>3,125,819</td>\n",
       "      <td>70.3%</td>\n",
       "      <td>3,204,402</td>\n",
       "      <td>67.0%</td>\n",
       "      <td>3,212,468</td>\n",
       "      <td>66.6%</td>\n",
       "      <td>+2.8%</td>\n",
       "      <td>-6.7 pp</td>\n",
       "      <td>AL</td>\n",
       "    </tr>\n",
       "    <tr>\n",
       "      <td>1</td>\n",
       "      <td>Alaska</td>\n",
       "      <td>406,722</td>\n",
       "      <td>73.9%</td>\n",
       "      <td>423,788</td>\n",
       "      <td>67.6%</td>\n",
       "      <td>455,320</td>\n",
       "      <td>64.1%</td>\n",
       "      <td>460,453</td>\n",
       "      <td>63.0%</td>\n",
       "      <td>+8.7%</td>\n",
       "      <td>-10.9 pp</td>\n",
       "      <td>AK</td>\n",
       "    </tr>\n",
       "    <tr>\n",
       "      <td>2</td>\n",
       "      <td>Arizona</td>\n",
       "      <td>2,626,185</td>\n",
       "      <td>71.7%</td>\n",
       "      <td>3,274,258</td>\n",
       "      <td>63.8%</td>\n",
       "      <td>3,695,647</td>\n",
       "      <td>57.8%</td>\n",
       "      <td>3,730,370</td>\n",
       "      <td>56.9%</td>\n",
       "      <td>+13.9%</td>\n",
       "      <td>-14.8 pp</td>\n",
       "      <td>AZ</td>\n",
       "    </tr>\n",
       "    <tr>\n",
       "      <td>3</td>\n",
       "      <td>Arkansas</td>\n",
       "      <td>1,933,082</td>\n",
       "      <td>82.2%</td>\n",
       "      <td>2,100,135</td>\n",
       "      <td>78.6%</td>\n",
       "      <td>2,173,469</td>\n",
       "      <td>74.5%</td>\n",
       "      <td>2,179,168</td>\n",
       "      <td>73.9%</td>\n",
       "      <td>+3.8%</td>\n",
       "      <td>-8.3 pp</td>\n",
       "      <td>AR</td>\n",
       "    </tr>\n",
       "    <tr>\n",
       "      <td>4</td>\n",
       "      <td>California</td>\n",
       "      <td>17,029,126</td>\n",
       "      <td>57.2%</td>\n",
       "      <td>15,816,790</td>\n",
       "      <td>46.7%</td>\n",
       "      <td>14,956,253</td>\n",
       "      <td>40.1%</td>\n",
       "      <td>14,904,055</td>\n",
       "      <td>39.2%</td>\n",
       "      <td>-5.8%</td>\n",
       "      <td>-18.0 pp</td>\n",
       "      <td>CA</td>\n",
       "    </tr>\n",
       "  </tbody>\n",
       "</table>\n",
       "</div>"
      ],
      "text/plain": [
       "  State.Territory    Pop.1990 pop1990    Pop.2000 pop2000    Pop.2010 pop2010  \\\n",
       "0         Alabama   2,960,167   73.3%   3,125,819   70.3%   3,204,402   67.0%   \n",
       "1          Alaska     406,722   73.9%     423,788   67.6%     455,320   64.1%   \n",
       "2         Arizona   2,626,185   71.7%   3,274,258   63.8%   3,695,647   57.8%   \n",
       "3        Arkansas   1,933,082   82.2%   2,100,135   78.6%   2,173,469   74.5%   \n",
       "4      California  17,029,126   57.2%  15,816,790   46.7%  14,956,253   40.1%   \n",
       "\n",
       "     Pop.2012 pop2012 growth.2000.2012 pop1990.2012 state_abb  \n",
       "0   3,212,468   66.6%            +2.8%      -6.7 pp        AL  \n",
       "1     460,453   63.0%            +8.7%     -10.9 pp        AK  \n",
       "2   3,730,370   56.9%           +13.9%     -14.8 pp        AZ  \n",
       "3   2,179,168   73.9%            +3.8%      -8.3 pp        AR  \n",
       "4  14,904,055   39.2%            -5.8%     -18.0 pp        CA  "
      ]
     },
     "execution_count": 9,
     "metadata": {},
     "output_type": "execute_result"
    }
   ],
   "source": [
    "# read in output from the R script that scraped the census data using a wikipedia table's xpath\n",
    "statewide_race = pd.read_csv('statewide_race_data.csv',encoding='cp437')\n",
    "\n",
    "# rename the columns to correct for R's default naming conventions\n",
    "for col in statewide_race.columns:\n",
    "    if 'X..' in col:\n",
    "        statewide_race.rename(columns={col:col.lstrip('X..')},inplace=True)\n",
    "\n",
    "# view output\n",
    "statewide_race.head()"
   ]
  },
  {
   "cell_type": "markdown",
   "metadata": {},
   "source": [
    "## Prepare Data for Descriptive Analysis"
   ]
  },
  {
   "cell_type": "code",
   "execution_count": 10,
   "metadata": {},
   "outputs": [],
   "source": [
    "# merge the dataframes -- everything on the left gets state demographic info from df on the right\n",
    "data['state_percent_white'] = data.merge(statewide_race,how='left',left_on='state',right_on='state_abb')['pop2012']\\\n",
    "                                .apply(lambda x: float(x[:-1]))\n",
    "                                                                                                         \n",
    "# match back state name\n",
    "data['State Name'] = data.merge(statewide_race,how='left',left_on='state',right_on='state_abb')['State.Territory']"
   ]
  },
  {
   "cell_type": "code",
   "execution_count": 11,
   "metadata": {},
   "outputs": [
    {
     "data": {
      "text/plain": [
       "(3496, 16)"
      ]
     },
     "execution_count": 11,
     "metadata": {},
     "output_type": "execute_result"
    }
   ],
   "source": [
    "# view the dataframe's parameters (rows x cols)\n",
    "data.shape"
   ]
  },
  {
   "cell_type": "code",
   "execution_count": 12,
   "metadata": {},
   "outputs": [
    {
     "name": "stdout",
     "output_type": "stream",
     "text": [
      "missing data in id: 0\n",
      "missing data in name: 0\n",
      "missing data in date: 0\n",
      "missing data in manner_of_death: 0\n",
      "missing data in armed: 174\n",
      "missing data in age: 49\n",
      "missing data in gender: 1\n",
      "missing data in race: 0\n",
      "missing data in city: 0\n",
      "missing data in state: 0\n",
      "missing data in signs_of_mental_illness: 0\n",
      "missing data in threat_level: 0\n",
      "missing data in flee: 139\n",
      "missing data in body_camera: 0\n",
      "missing data in state_percent_white: 0\n",
      "missing data in State Name: 0\n"
     ]
    }
   ],
   "source": [
    "# see how many columns are missing data\n",
    "for col in data.columns:\n",
    "    print(f'missing data in {col}:',len(data) - len(data[col].dropna()))"
   ]
  },
  {
   "cell_type": "code",
   "execution_count": 13,
   "metadata": {},
   "outputs": [],
   "source": [
    "# add seasonal information\n",
    "data['summer'] = data['date'].apply(lambda x: x[5:7] in ('06','07','08')).astype(int)\n",
    "data['fall'] = data['date'].apply(lambda x: x[5:7] in ('09','10','11')).astype(int)\n",
    "data['winter'] = data['date'].apply(lambda x: x[5:7] in ('12','01','02')).astype(int)"
   ]
  },
  {
   "cell_type": "code",
   "execution_count": 14,
   "metadata": {},
   "outputs": [],
   "source": [
    "# if it was undetermined if the suspect is armed, that can be a variable class\n",
    "data['armed'].fillna('undetermined',inplace=True)"
   ]
  },
  {
   "cell_type": "code",
   "execution_count": 15,
   "metadata": {},
   "outputs": [
    {
     "name": "stdout",
     "output_type": "stream",
     "text": [
      "1963    Scout Schultz\n",
      "Name: name, dtype: object\n"
     ]
    }
   ],
   "source": [
    "print(data.loc[data['gender'].isnull()]['name'])\n",
    "\n",
    "# I looked up this case and it was a suicide - can remove from dataset\n",
    "data = data.loc[data['gender'].isnull() == False]"
   ]
  },
  {
   "cell_type": "markdown",
   "metadata": {},
   "source": [
    "## Descriptive Analysis"
   ]
  },
  {
   "cell_type": "code",
   "execution_count": 16,
   "metadata": {},
   "outputs": [],
   "source": [
    "# look at black/white breakdown on a statewide level\n",
    "pivot_tbl = pd.pivot_table(data,index='State Name',values='state',columns=['race'],aggfunc='size',fill_value=0)\n",
    "pivot_tbl['killed percent white'] = round(pivot_tbl['W']/(pivot_tbl['W'] + pivot_tbl['B']) * 100, 2)\n",
    "pivot_tbl = pivot_tbl.reset_index()\n",
    "pivot_tbl['in state percent white'] = pivot_tbl.merge(data[['State Name','state_percent_white']].drop_duplicates()\n",
    "                                                      ,how='left',on='State Name')['state_percent_white']\n",
    "pivot_tbl['ratio killed:in state'] = round(pivot_tbl['killed percent white'] / pivot_tbl['in state percent white']*100,2)\n",
    "pivot_tbl.sort_values('ratio killed:in state').reset_index(drop=True).to_csv('states_ratio.csv',index=False)"
   ]
  },
  {
   "cell_type": "code",
   "execution_count": 17,
   "metadata": {},
   "outputs": [
    {
     "data": {
      "text/html": [
       "<div>\n",
       "<style scoped>\n",
       "    .dataframe tbody tr th:only-of-type {\n",
       "        vertical-align: middle;\n",
       "    }\n",
       "\n",
       "    .dataframe tbody tr th {\n",
       "        vertical-align: top;\n",
       "    }\n",
       "\n",
       "    .dataframe thead th {\n",
       "        text-align: right;\n",
       "    }\n",
       "</style>\n",
       "<table border=\"1\" class=\"dataframe\">\n",
       "  <thead>\n",
       "    <tr style=\"text-align: right;\">\n",
       "      <th>race</th>\n",
       "      <th>State Name</th>\n",
       "      <th>B</th>\n",
       "      <th>W</th>\n",
       "      <th>killed percent white</th>\n",
       "      <th>in state percent white</th>\n",
       "      <th>ratio killed:in state</th>\n",
       "    </tr>\n",
       "  </thead>\n",
       "  <tbody>\n",
       "    <tr>\n",
       "      <td>8</td>\n",
       "      <td>District of Columbia</td>\n",
       "      <td>12</td>\n",
       "      <td>1</td>\n",
       "      <td>7.69</td>\n",
       "      <td>35.3</td>\n",
       "      <td>21.78</td>\n",
       "    </tr>\n",
       "    <tr>\n",
       "      <td>39</td>\n",
       "      <td>Rhode Island</td>\n",
       "      <td>2</td>\n",
       "      <td>1</td>\n",
       "      <td>33.33</td>\n",
       "      <td>75.4</td>\n",
       "      <td>44.20</td>\n",
       "    </tr>\n",
       "    <tr>\n",
       "      <td>13</td>\n",
       "      <td>Illinois</td>\n",
       "      <td>57</td>\n",
       "      <td>28</td>\n",
       "      <td>32.94</td>\n",
       "      <td>62.9</td>\n",
       "      <td>52.37</td>\n",
       "    </tr>\n",
       "    <tr>\n",
       "      <td>18</td>\n",
       "      <td>Louisiana</td>\n",
       "      <td>56</td>\n",
       "      <td>36</td>\n",
       "      <td>39.13</td>\n",
       "      <td>59.7</td>\n",
       "      <td>65.54</td>\n",
       "    </tr>\n",
       "    <tr>\n",
       "      <td>20</td>\n",
       "      <td>Maryland</td>\n",
       "      <td>43</td>\n",
       "      <td>24</td>\n",
       "      <td>35.82</td>\n",
       "      <td>53.8</td>\n",
       "      <td>66.58</td>\n",
       "    </tr>\n",
       "  </tbody>\n",
       "</table>\n",
       "</div>"
      ],
      "text/plain": [
       "race            State Name   B   W  killed percent white  \\\n",
       "8     District of Columbia  12   1                  7.69   \n",
       "39            Rhode Island   2   1                 33.33   \n",
       "13                Illinois  57  28                 32.94   \n",
       "18               Louisiana  56  36                 39.13   \n",
       "20                Maryland  43  24                 35.82   \n",
       "\n",
       "race  in state percent white  ratio killed:in state  \n",
       "8                       35.3                  21.78  \n",
       "39                      75.4                  44.20  \n",
       "13                      62.9                  52.37  \n",
       "18                      59.7                  65.54  \n",
       "20                      53.8                  66.58  "
      ]
     },
     "execution_count": 17,
     "metadata": {},
     "output_type": "execute_result"
    }
   ],
   "source": [
    "# five states most likely to see blacks killed\n",
    "pivot_tbl.sort_values('ratio killed:in state').head(5)"
   ]
  },
  {
   "cell_type": "code",
   "execution_count": 18,
   "metadata": {},
   "outputs": [
    {
     "data": {
      "text/html": [
       "<div>\n",
       "<style scoped>\n",
       "    .dataframe tbody tr th:only-of-type {\n",
       "        vertical-align: middle;\n",
       "    }\n",
       "\n",
       "    .dataframe tbody tr th {\n",
       "        vertical-align: top;\n",
       "    }\n",
       "\n",
       "    .dataframe thead th {\n",
       "        text-align: right;\n",
       "    }\n",
       "</style>\n",
       "<table border=\"1\" class=\"dataframe\">\n",
       "  <thead>\n",
       "    <tr style=\"text-align: right;\">\n",
       "      <th>race</th>\n",
       "      <th>State Name</th>\n",
       "      <th>B</th>\n",
       "      <th>W</th>\n",
       "      <th>killed percent white</th>\n",
       "      <th>in state percent white</th>\n",
       "      <th>ratio killed:in state</th>\n",
       "    </tr>\n",
       "  </thead>\n",
       "  <tbody>\n",
       "    <tr>\n",
       "      <td>43</td>\n",
       "      <td>Texas</td>\n",
       "      <td>90</td>\n",
       "      <td>162</td>\n",
       "      <td>64.29</td>\n",
       "      <td>44.3</td>\n",
       "      <td>145.12</td>\n",
       "    </tr>\n",
       "    <tr>\n",
       "      <td>2</td>\n",
       "      <td>Arizona</td>\n",
       "      <td>16</td>\n",
       "      <td>104</td>\n",
       "      <td>86.67</td>\n",
       "      <td>56.9</td>\n",
       "      <td>152.32</td>\n",
       "    </tr>\n",
       "    <tr>\n",
       "      <td>4</td>\n",
       "      <td>California</td>\n",
       "      <td>118</td>\n",
       "      <td>203</td>\n",
       "      <td>63.24</td>\n",
       "      <td>39.2</td>\n",
       "      <td>161.33</td>\n",
       "    </tr>\n",
       "    <tr>\n",
       "      <td>31</td>\n",
       "      <td>New Mexico</td>\n",
       "      <td>1</td>\n",
       "      <td>24</td>\n",
       "      <td>96.00</td>\n",
       "      <td>39.7</td>\n",
       "      <td>241.81</td>\n",
       "    </tr>\n",
       "    <tr>\n",
       "      <td>11</td>\n",
       "      <td>Hawaii</td>\n",
       "      <td>1</td>\n",
       "      <td>3</td>\n",
       "      <td>75.00</td>\n",
       "      <td>22.8</td>\n",
       "      <td>328.95</td>\n",
       "    </tr>\n",
       "  </tbody>\n",
       "</table>\n",
       "</div>"
      ],
      "text/plain": [
       "race  State Name    B    W  killed percent white  in state percent white  \\\n",
       "43         Texas   90  162                 64.29                    44.3   \n",
       "2        Arizona   16  104                 86.67                    56.9   \n",
       "4     California  118  203                 63.24                    39.2   \n",
       "31    New Mexico    1   24                 96.00                    39.7   \n",
       "11        Hawaii    1    3                 75.00                    22.8   \n",
       "\n",
       "race  ratio killed:in state  \n",
       "43                   145.12  \n",
       "2                    152.32  \n",
       "4                    161.33  \n",
       "31                   241.81  \n",
       "11                   328.95  "
      ]
     },
     "execution_count": 18,
     "metadata": {},
     "output_type": "execute_result"
    }
   ],
   "source": [
    "# five states most likely to see whites killed\n",
    "pivot_tbl.sort_values('ratio killed:in state').tail(5)"
   ]
  },
  {
   "cell_type": "code",
   "execution_count": 19,
   "metadata": {},
   "outputs": [
    {
     "data": {
      "image/png": "[encoded data removed]",
      "text/plain": [
       "<Figure size 432x288 with 1 Axes>"
      ]
     },
     "metadata": {
      "needs_background": "light"
     },
     "output_type": "display_data"
    }
   ],
   "source": [
    "# Histogram of Age by Race\n",
    "sns.distplot(data.dropna(subset=['age']).loc[data['race'] == 'W', \"age\"], color=\"skyblue\", label=\"White\")\n",
    "sns.distplot(data.dropna(subset=['age']).loc[data['race'] == 'B', \"age\"], color=\"red\", label=\"Black\")\n",
    "plt.legend(labels=['White','Black'])\n",
    "plt.savefig('img/age_histogram')"
   ]
  },
  {
   "cell_type": "code",
   "execution_count": 20,
   "metadata": {},
   "outputs": [
    {
     "name": "stderr",
     "output_type": "stream",
     "text": [
      "C:\\Users\\uger7\\Anaconda3\\lib\\site-packages\\seaborn\\categorical.py:3666: UserWarning: The `factorplot` function has been renamed to `catplot`. The original name will be removed in a future release. Please update your code. Note that the default `kind` in `factorplot` (`'point'`) has changed `'strip'` in `catplot`.\n",
      "  warnings.warn(msg)\n"
     ]
    },
    {
     "data": {
      "text/plain": [
       "<Figure size 432x288 with 0 Axes>"
      ]
     },
     "metadata": {},
     "output_type": "display_data"
    },
    {
     "data": {
      "image/png": "[encoded data removed]",
      "text/plain": [
       "<Figure size 360x360 with 1 Axes>"
      ]
     },
     "metadata": {
      "needs_background": "light"
     },
     "output_type": "display_data"
    }
   ],
   "source": [
    "fig = plt.figure()\n",
    "sns.factorplot(x='race', y='body_camera', data=data, kind='bar',palette='muted').set(xlabel='Race', ylabel='% Body Camera On')\n",
    "plt.savefig('img/body_camera_boxplot')"
   ]
  },
  {
   "cell_type": "markdown",
   "metadata": {},
   "source": [
    "## Prepare Data for Modeling"
   ]
  },
  {
   "cell_type": "code",
   "execution_count": 21,
   "metadata": {},
   "outputs": [],
   "source": [
    "# change from True/False to 0/1\n",
    "data['body_camera'] = data['body_camera'].astype(int)\n",
    "data['signs_of_mental_illness'] = data['signs_of_mental_illness'].astype(int)"
   ]
  },
  {
   "cell_type": "code",
   "execution_count": 22,
   "metadata": {},
   "outputs": [],
   "source": [
    "# use dynamic dataframe processing\n",
    "data_processed = ddf(data)\n",
    "# dummy variables\n",
    "data_processed.dummy('race',exclude_values=['W'])\n",
    "data_processed.dummy('gender',exclude_values=['F'])\n",
    "data_processed.dummy('flee',exclude_na_levels=True,na_levels='nan')\n",
    "data_processed.dummy('threat_level',exclude_values=['undetermined'])\n",
    "\n",
    "# dummy variables using regex\n",
    "data_processed.dummy_regex('armed',['gun'])\n",
    "data_processed.dummy_regex('armed',['unarmed'])\n",
    "\n",
    "# impute missing age data \n",
    "data_processed.impute_na('age',exclude='race:B')\n",
    "# bucket age into classes (less than 15, 16 to 25, and 26 to 45; over 45 is the omitted class)\n",
    "data_processed['child'] = data_processed['age'].apply(lambda x: x <= 15).astype(int)\n",
    "data_processed['young adult'] = data_processed['age'].apply(lambda x: (x > 15) & (x <= 25)).astype(int)\n",
    "data_processed['adult'] = data_processed['age'].apply(lambda x: (x > 25) & (x <= 45)).astype(int)\n",
    "\n",
    "# bucket state demographic info (more than 75% white and 50% to 75% white; less than 50% white is the omitted class)\n",
    "data_processed['state:almost_all_white'] = data_processed['state_percent_white'].apply(lambda x: x > 75).astype(int)\n",
    "data_processed['state:majority_white'] = data_processed['state_percent_white'].apply(lambda x: (x >= 50) & (x <= 75)).astype(int)\n",
    "\n",
    "# now that everyting is a binary 0/1 var, drop all non-integer data types\n",
    "data_processed.drop(columns=['age','id','state_percent_white'],inplace=True)\n",
    "for col in data_processed:\n",
    "    if data_processed[col].dtype not in (np.int32,np.int64,int):\n",
    "        data_processed.drop(columns=col,inplace=True)"
   ]
  },
  {
   "cell_type": "code",
   "execution_count": 23,
   "metadata": {},
   "outputs": [
    {
     "data": {
      "text/html": [
       "<div>\n",
       "<style scoped>\n",
       "    .dataframe tbody tr th:only-of-type {\n",
       "        vertical-align: middle;\n",
       "    }\n",
       "\n",
       "    .dataframe tbody tr th {\n",
       "        vertical-align: top;\n",
       "    }\n",
       "\n",
       "    .dataframe thead th {\n",
       "        text-align: right;\n",
       "    }\n",
       "</style>\n",
       "<table border=\"1\" class=\"dataframe\">\n",
       "  <thead>\n",
       "    <tr style=\"text-align: right;\">\n",
       "      <th></th>\n",
       "      <th>signs_of_mental_illness</th>\n",
       "      <th>body_camera</th>\n",
       "      <th>summer</th>\n",
       "      <th>fall</th>\n",
       "      <th>winter</th>\n",
       "      <th>race:B</th>\n",
       "      <th>gender:M</th>\n",
       "      <th>flee:Not fleeing</th>\n",
       "      <th>flee:Car</th>\n",
       "      <th>flee:Foot</th>\n",
       "      <th>flee:Other</th>\n",
       "      <th>threat_level:attack</th>\n",
       "      <th>threat_level:other</th>\n",
       "      <th>armed:r:gun</th>\n",
       "      <th>armed:r:unarmed</th>\n",
       "      <th>child</th>\n",
       "      <th>young adult</th>\n",
       "      <th>adult</th>\n",
       "      <th>state:almost_all_white</th>\n",
       "      <th>state:majority_white</th>\n",
       "    </tr>\n",
       "  </thead>\n",
       "  <tbody>\n",
       "    <tr>\n",
       "      <td>0</td>\n",
       "      <td>0</td>\n",
       "      <td>0</td>\n",
       "      <td>0</td>\n",
       "      <td>0</td>\n",
       "      <td>1</td>\n",
       "      <td>0</td>\n",
       "      <td>1</td>\n",
       "      <td>1</td>\n",
       "      <td>0</td>\n",
       "      <td>0</td>\n",
       "      <td>0</td>\n",
       "      <td>1</td>\n",
       "      <td>0</td>\n",
       "      <td>1</td>\n",
       "      <td>0</td>\n",
       "      <td>0</td>\n",
       "      <td>0</td>\n",
       "      <td>0</td>\n",
       "      <td>1</td>\n",
       "      <td>0</td>\n",
       "    </tr>\n",
       "    <tr>\n",
       "      <td>1</td>\n",
       "      <td>1</td>\n",
       "      <td>0</td>\n",
       "      <td>0</td>\n",
       "      <td>0</td>\n",
       "      <td>1</td>\n",
       "      <td>0</td>\n",
       "      <td>1</td>\n",
       "      <td>1</td>\n",
       "      <td>0</td>\n",
       "      <td>0</td>\n",
       "      <td>0</td>\n",
       "      <td>1</td>\n",
       "      <td>0</td>\n",
       "      <td>0</td>\n",
       "      <td>0</td>\n",
       "      <td>0</td>\n",
       "      <td>0</td>\n",
       "      <td>1</td>\n",
       "      <td>0</td>\n",
       "      <td>0</td>\n",
       "    </tr>\n",
       "    <tr>\n",
       "      <td>2</td>\n",
       "      <td>0</td>\n",
       "      <td>0</td>\n",
       "      <td>0</td>\n",
       "      <td>0</td>\n",
       "      <td>1</td>\n",
       "      <td>0</td>\n",
       "      <td>1</td>\n",
       "      <td>1</td>\n",
       "      <td>0</td>\n",
       "      <td>0</td>\n",
       "      <td>0</td>\n",
       "      <td>1</td>\n",
       "      <td>0</td>\n",
       "      <td>1</td>\n",
       "      <td>0</td>\n",
       "      <td>0</td>\n",
       "      <td>1</td>\n",
       "      <td>0</td>\n",
       "      <td>0</td>\n",
       "      <td>1</td>\n",
       "    </tr>\n",
       "    <tr>\n",
       "      <td>3</td>\n",
       "      <td>0</td>\n",
       "      <td>0</td>\n",
       "      <td>0</td>\n",
       "      <td>0</td>\n",
       "      <td>1</td>\n",
       "      <td>0</td>\n",
       "      <td>1</td>\n",
       "      <td>1</td>\n",
       "      <td>0</td>\n",
       "      <td>0</td>\n",
       "      <td>0</td>\n",
       "      <td>1</td>\n",
       "      <td>0</td>\n",
       "      <td>1</td>\n",
       "      <td>0</td>\n",
       "      <td>0</td>\n",
       "      <td>0</td>\n",
       "      <td>1</td>\n",
       "      <td>1</td>\n",
       "      <td>0</td>\n",
       "    </tr>\n",
       "    <tr>\n",
       "      <td>4</td>\n",
       "      <td>0</td>\n",
       "      <td>1</td>\n",
       "      <td>0</td>\n",
       "      <td>0</td>\n",
       "      <td>1</td>\n",
       "      <td>0</td>\n",
       "      <td>0</td>\n",
       "      <td>1</td>\n",
       "      <td>0</td>\n",
       "      <td>0</td>\n",
       "      <td>0</td>\n",
       "      <td>0</td>\n",
       "      <td>1</td>\n",
       "      <td>0</td>\n",
       "      <td>1</td>\n",
       "      <td>0</td>\n",
       "      <td>0</td>\n",
       "      <td>1</td>\n",
       "      <td>1</td>\n",
       "      <td>0</td>\n",
       "    </tr>\n",
       "  </tbody>\n",
       "</table>\n",
       "</div>"
      ],
      "text/plain": [
       "   signs_of_mental_illness  body_camera  summer  fall  winter  race:B  \\\n",
       "0                        0            0       0     0       1       0   \n",
       "1                        1            0       0     0       1       0   \n",
       "2                        0            0       0     0       1       0   \n",
       "3                        0            0       0     0       1       0   \n",
       "4                        0            1       0     0       1       0   \n",
       "\n",
       "   gender:M  flee:Not fleeing  flee:Car  flee:Foot  flee:Other  \\\n",
       "0         1                 1         0          0           0   \n",
       "1         1                 1         0          0           0   \n",
       "2         1                 1         0          0           0   \n",
       "3         1                 1         0          0           0   \n",
       "4         0                 1         0          0           0   \n",
       "\n",
       "   threat_level:attack  threat_level:other  armed:r:gun  armed:r:unarmed  \\\n",
       "0                    1                   0            1                0   \n",
       "1                    1                   0            0                0   \n",
       "2                    1                   0            1                0   \n",
       "3                    1                   0            1                0   \n",
       "4                    0                   1            0                1   \n",
       "\n",
       "   child  young adult  adult  state:almost_all_white  state:majority_white  \n",
       "0      0            0      0                       1                     0  \n",
       "1      0            0      1                       0                     0  \n",
       "2      0            1      0                       0                     1  \n",
       "3      0            0      1                       1                     0  \n",
       "4      0            0      1                       1                     0  "
      ]
     },
     "execution_count": 23,
     "metadata": {},
     "output_type": "execute_result"
    }
   ],
   "source": [
    "# view output\n",
    "data_processed.head()"
   ]
  },
  {
   "cell_type": "code",
   "execution_count": 24,
   "metadata": {},
   "outputs": [
    {
     "data": {
      "text/plain": [
       "(3495, 20)"
      ]
     },
     "execution_count": 24,
     "metadata": {},
     "output_type": "execute_result"
    }
   ],
   "source": [
    "# view shape (rows x cols)\n",
    "data_processed.shape"
   ]
  },
  {
   "cell_type": "markdown",
   "metadata": {},
   "source": [
    "## Split Data"
   ]
  },
  {
   "cell_type": "code",
   "execution_count": 25,
   "metadata": {},
   "outputs": [],
   "source": [
    "# split 80% of data into training set\n",
    "X = data_processed.loc[:,data_processed.columns!='race:B']\n",
    "y = data_processed.loc[:,data_processed.columns=='race:B']\n",
    "\n",
    "X_train, X_test, y_train, y_test = train_test_split(X,y,test_size=0.2,random_state=20)"
   ]
  },
  {
   "cell_type": "markdown",
   "metadata": {},
   "source": [
    "## Logistic Model"
   ]
  },
  {
   "cell_type": "markdown",
   "metadata": {},
   "source": [
    "### Train"
   ]
  },
  {
   "cell_type": "code",
   "execution_count": 26,
   "metadata": {},
   "outputs": [
    {
     "name": "stdout",
     "output_type": "stream",
     "text": [
      "Optimization terminated successfully.\n",
      "         Current function value: 0.586120\n",
      "         Iterations 6\n",
      "                            Results: Logit\n",
      "=======================================================================\n",
      "Model:                Logit              Pseudo R-squared:   0.088     \n",
      "Dependent Variable:   race:B             AIC:                3317.5804 \n",
      "Date:                 2020-04-15 12:55   BIC:                3436.2993 \n",
      "No. Observations:     2796               Log-Likelihood:     -1638.8   \n",
      "Df Model:             19                 LL-Null:            -1797.8   \n",
      "Df Residuals:         2776               LLR p-value:        3.9079e-56\n",
      "Converged:            1.0000             Scale:              1.0000    \n",
      "No. Iterations:       6.0000                                           \n",
      "-----------------------------------------------------------------------\n",
      "                         Coef.  Std.Err.    z    P>|z|   [0.025  0.975]\n",
      "-----------------------------------------------------------------------\n",
      "signs_of_mental_illness -0.7156   0.1110 -6.4453 0.0000 -0.9332 -0.4980\n",
      "body_camera              0.5833   0.1282  4.5489 0.0000  0.3320  0.8346\n",
      "summer                   0.0631   0.1201  0.5251 0.5995 -0.1723  0.2984\n",
      "fall                    -0.0373   0.1237 -0.3011 0.7634 -0.2798  0.2053\n",
      "winter                   0.1481   0.1180  1.2554 0.2093 -0.0831  0.3793\n",
      "gender:M                 0.2779   0.2153  1.2908 0.1968 -0.1440  0.6998\n",
      "flee:Not fleeing        -0.1138   0.2255 -0.5047 0.6138 -0.5557  0.3281\n",
      "flee:Car                -0.1194   0.2412 -0.4949 0.6206 -0.5922  0.3534\n",
      "flee:Foot                0.3971   0.2450  1.6209 0.1050 -0.0831  0.8773\n",
      "flee:Other              -0.5120   0.3286 -1.5582 0.1192 -1.1559  0.1320\n",
      "threat_level:attack     -0.0327   0.2156 -0.1514 0.8796 -0.4553  0.3900\n",
      "threat_level:other      -0.1343   0.2193 -0.6126 0.5401 -0.5641  0.2955\n",
      "armed:r:gun              0.0780   0.0993  0.7855 0.4321 -0.1166  0.2727\n",
      "armed:r:unarmed          0.2198   0.1754  1.2533 0.2101 -0.1240  0.5636\n",
      "child                    1.3955   0.6588  2.1182 0.0342  0.1043  2.6868\n",
      "young adult              1.5771   0.1349 11.6878 0.0000  1.3126  1.8415\n",
      "adult                    0.8610   0.1155  7.4532 0.0000  0.6346  1.0874\n",
      "state:almost_all_white  -0.4263   0.1286 -3.3143 0.0009 -0.6785 -0.1742\n",
      "state:majority_white     0.0741   0.1139  0.6503 0.5155 -0.1491  0.2972\n",
      "intercept               -1.5889   0.3733 -4.2564 0.0000 -2.3206 -0.8573\n",
      "=======================================================================\n",
      "\n"
     ]
    }
   ],
   "source": [
    "# create a logit model with coefficient calculations\n",
    "\n",
    "# first, copy the dataset and create an intercept variable\n",
    "X_train2 = X_train.copy()\n",
    "X_train2['intercept'] = 1\n",
    "\n",
    "# now, build the model and view the summary stats\n",
    "logit_model = sm.Logit(y_train,X_train2)\n",
    "result=logit_model.fit()\n",
    "print(result.summary2())"
   ]
  },
  {
   "cell_type": "code",
   "execution_count": 27,
   "metadata": {},
   "outputs": [
    {
     "data": {
      "text/plain": [
       "LogisticRegression(C=1.0, class_weight=None, dual=False, fit_intercept=True,\n",
       "                   intercept_scaling=1, l1_ratio=None, max_iter=100,\n",
       "                   multi_class='auto', n_jobs=None, penalty='l2',\n",
       "                   random_state=None, solver='lbfgs', tol=0.0001, verbose=0,\n",
       "                   warm_start=False)"
      ]
     },
     "execution_count": 27,
     "metadata": {},
     "output_type": "execute_result"
    }
   ],
   "source": [
    "# fit the same\n",
    "logreg = LogisticRegression()\n",
    "logreg.fit(X_train,y_train)"
   ]
  },
  {
   "cell_type": "markdown",
   "metadata": {},
   "source": [
    "### Predict"
   ]
  },
  {
   "cell_type": "code",
   "execution_count": 28,
   "metadata": {},
   "outputs": [],
   "source": [
    "# create predictions\n",
    "y_pred_logit = logreg.predict(X_test)"
   ]
  },
  {
   "cell_type": "code",
   "execution_count": 29,
   "metadata": {},
   "outputs": [
    {
     "data": {
      "text/plain": [
       "array([[402,  46],\n",
       "       [166,  85]], dtype=int64)"
      ]
     },
     "execution_count": 29,
     "metadata": {},
     "output_type": "execute_result"
    }
   ],
   "source": [
    "# confusion matrix\n",
    "confusion_matrix(y_test,y_pred_logit)"
   ]
  },
  {
   "cell_type": "code",
   "execution_count": 30,
   "metadata": {},
   "outputs": [
    {
     "name": "stdout",
     "output_type": "stream",
     "text": [
      "No Information Rate: 0.64\n",
      "Model Total Accruacy: 0.7\n"
     ]
    }
   ],
   "source": [
    "# no information rate\n",
    "no_info_rate = round(1 - len(y_test.loc[y_test['race:B'] == 1])/len(y_test),2)\n",
    "print('No Information Rate:', no_info_rate)\n",
    "print('Model Total Accruacy:',round((1-np.sum(abs(y_pred_logit-y_test[y_test.columns[0]]))/len(y_test)),2))"
   ]
  },
  {
   "cell_type": "code",
   "execution_count": 31,
   "metadata": {},
   "outputs": [
    {
     "name": "stdout",
     "output_type": "stream",
     "text": [
      "              precision    recall  f1-score   support\n",
      "\n",
      "           0       0.71      0.90      0.79       448\n",
      "           1       0.65      0.34      0.45       251\n",
      "\n",
      "    accuracy                           0.70       699\n",
      "   macro avg       0.68      0.62      0.62       699\n",
      "weighted avg       0.69      0.70      0.67       699\n",
      "\n"
     ]
    }
   ],
   "source": [
    "# classification report\n",
    "print(classification_report(y_test,y_pred_logit))"
   ]
  },
  {
   "cell_type": "markdown",
   "metadata": {},
   "source": [
    "### Visualize"
   ]
  },
  {
   "cell_type": "code",
   "execution_count": 32,
   "metadata": {},
   "outputs": [
    {
     "data": {
      "image/png": "[encoded data removed]",
      "text/plain": [
       "<Figure size 432x288 with 1 Axes>"
      ]
     },
     "metadata": {
      "needs_background": "light"
     },
     "output_type": "display_data"
    }
   ],
   "source": [
    "# ROC Curve\n",
    "logit_roc_auc = roc_auc_score(y_test, logreg.predict(X_test))\n",
    "fpr, tpr, thresholds = roc_curve(y_test, logreg.predict_proba(X_test)[:,1])\n",
    "plt.figure()\n",
    "plt.plot(fpr, tpr, label='Logistic Regression (area = %0.2f)' % logit_roc_auc)\n",
    "plt.plot([0, 1], [0, 1],'r--')\n",
    "plt.xlim([0.0, 1.0])\n",
    "plt.ylim([0.0, 1.05])\n",
    "plt.xlabel('False Positive Rate')\n",
    "plt.ylabel('True Positive Rate')\n",
    "plt.title('Receiver operating characteristic')\n",
    "plt.legend(loc=\"lower right\")\n",
    "plt.savefig('img/Log_ROC')\n",
    "plt.rcParams[\"figure.figsize\"] = (10,5)\n",
    "plt.show()"
   ]
  },
  {
   "cell_type": "markdown",
   "metadata": {},
   "source": [
    "## Random Forest"
   ]
  },
  {
   "cell_type": "markdown",
   "metadata": {},
   "source": [
    "### Hyper Tune"
   ]
  },
  {
   "cell_type": "code",
   "execution_count": 33,
   "metadata": {},
   "outputs": [
    {
     "data": {
      "text/plain": [
       "(72, 5)"
      ]
     },
     "execution_count": 33,
     "metadata": {},
     "output_type": "execute_result"
    }
   ],
   "source": [
    "# Random Forest Classifier\n",
    "hyper_params = {\n",
    "    'max_depth':[10,20],\n",
    "    'n_estimators':[100,500,1000],\n",
    "    'min_samples_split':[2,4,6],\n",
    "    'max_features':['auto','sqrt'],\n",
    "    'max_samples':[0.5,.99]\n",
    "}\n",
    "\n",
    "# expand grid to get all possible combos\n",
    "def expand_grid(dictionary):\n",
    "    \"\"\" takes a dictionary of lists, and expands out arrays into a pandas dataframe\n",
    "    \"\"\"\n",
    "    return pd.DataFrame([row for row in product(*dictionary.values())], \n",
    "                       columns=dictionary.keys())\n",
    "grid = expand_grid(hyper_params)\n",
    "\n",
    "# view result shape\n",
    "grid.shape"
   ]
  },
  {
   "cell_type": "code",
   "execution_count": 34,
   "metadata": {},
   "outputs": [],
   "source": [
    "# create cross validate function\n",
    "def cross_validate_rf(X_train,y_train,k=3,grid=grid,loss='gini'):\n",
    "    \"\"\" cross validates across k folds\n",
    "        uses non-sepcified random states, so results can change each time\n",
    "        returns two outputs: the optimal hyperparameters and the full grid with derived error metrics\n",
    "    \"\"\"\n",
    "    # copy our grid to write error metrics into it\n",
    "    hyper_grid = grid.copy()\n",
    "    \n",
    "    # create the error columns for each cross-validation fold\n",
    "    for i in range(1,k+1):\n",
    "        hyper_grid[f'error_{i}'] = 0\n",
    "    \n",
    "    # run the random forest estimator through the gird of parameters and score each cv fold\n",
    "    for i, row in tqdm(hyper_grid.iterrows()):\n",
    "        rf = RandomForestClassifier(\n",
    "            n_estimators = row['n_estimators'],\n",
    "            max_depth = row['max_depth'],\n",
    "            min_samples_split = row['min_samples_split'],\n",
    "            max_features = row['max_features'],\n",
    "            max_samples = row['max_samples']\n",
    "        )\n",
    "        errors = 1 - cross_val_score(rf, X_train, y_train, cv=k, scoring = 'accuracy')\n",
    "        # write each cv score to its own column\n",
    "        for idx, e in enumerate(errors):\n",
    "            hyper_grid.loc[hyper_grid.index==i,f'error_{idx+1}'] = e\n",
    "    # take the mean of each cross-validated iteration to get the final error metric for each line of hyper parameters\n",
    "    hyper_grid['total_error'] = hyper_grid[[e for e in hyper_grid.columns if e.startswith('error_')]].mean(axis=1)\n",
    "    min_error = hyper_grid['total_error'].min()\n",
    "    # return the row with the lowest error metric as well as the full set of results\n",
    "    return hyper_grid.loc[hyper_grid['total_error'] == min_error], hyper_grid"
   ]
  },
  {
   "cell_type": "code",
   "execution_count": 35,
   "metadata": {},
   "outputs": [
    {
     "name": "stderr",
     "output_type": "stream",
     "text": [
      "72it [06:56,  5.78s/it]\n"
     ]
    }
   ],
   "source": [
    "# hyper tune parameters with 3-fold cv\n",
    "hyper_tuned_metrics, full_cv_results = cross_validate_rf(X_train,y_train)"
   ]
  },
  {
   "cell_type": "code",
   "execution_count": 36,
   "metadata": {},
   "outputs": [
    {
     "data": {
      "text/html": [
       "<div>\n",
       "<style scoped>\n",
       "    .dataframe tbody tr th:only-of-type {\n",
       "        vertical-align: middle;\n",
       "    }\n",
       "\n",
       "    .dataframe tbody tr th {\n",
       "        vertical-align: top;\n",
       "    }\n",
       "\n",
       "    .dataframe thead th {\n",
       "        text-align: right;\n",
       "    }\n",
       "</style>\n",
       "<table border=\"1\" class=\"dataframe\">\n",
       "  <thead>\n",
       "    <tr style=\"text-align: right;\">\n",
       "      <th></th>\n",
       "      <th>max_depth</th>\n",
       "      <th>n_estimators</th>\n",
       "      <th>min_samples_split</th>\n",
       "      <th>max_features</th>\n",
       "      <th>max_samples</th>\n",
       "      <th>error_1</th>\n",
       "      <th>error_2</th>\n",
       "      <th>error_3</th>\n",
       "      <th>total_error</th>\n",
       "    </tr>\n",
       "  </thead>\n",
       "  <tbody>\n",
       "    <tr>\n",
       "      <td>8</td>\n",
       "      <td>10</td>\n",
       "      <td>100</td>\n",
       "      <td>6</td>\n",
       "      <td>auto</td>\n",
       "      <td>0.5</td>\n",
       "      <td>0.327253</td>\n",
       "      <td>0.321888</td>\n",
       "      <td>0.325107</td>\n",
       "      <td>0.32475</td>\n",
       "    </tr>\n",
       "  </tbody>\n",
       "</table>\n",
       "</div>"
      ],
      "text/plain": [
       "   max_depth  n_estimators  min_samples_split max_features  max_samples  \\\n",
       "8         10           100                  6         auto          0.5   \n",
       "\n",
       "    error_1   error_2   error_3  total_error  \n",
       "8  0.327253  0.321888  0.325107      0.32475  "
      ]
     },
     "execution_count": 36,
     "metadata": {},
     "output_type": "execute_result"
    }
   ],
   "source": [
    "# view best metrics\n",
    "hyper_tuned_metrics"
   ]
  },
  {
   "cell_type": "markdown",
   "metadata": {},
   "source": [
    "### Train"
   ]
  },
  {
   "cell_type": "code",
   "execution_count": 37,
   "metadata": {},
   "outputs": [
    {
     "data": {
      "text/plain": [
       "RandomForestClassifier(bootstrap=True, ccp_alpha=0.0, class_weight=None,\n",
       "                       criterion='gini', max_depth=10, max_features='sqrt',\n",
       "                       max_leaf_nodes=None, max_samples=0.5,\n",
       "                       min_impurity_decrease=0.0, min_impurity_split=None,\n",
       "                       min_samples_leaf=1, min_samples_split=6,\n",
       "                       min_weight_fraction_leaf=0.0, n_estimators=100,\n",
       "                       n_jobs=None, oob_score=False, random_state=20, verbose=0,\n",
       "                       warm_start=False)"
      ]
     },
     "execution_count": 37,
     "metadata": {},
     "output_type": "execute_result"
    }
   ],
   "source": [
    "# define the model based on the parameters in the above grid\n",
    "rf = RandomForestClassifier(\n",
    "            max_depth = 10,\n",
    "            n_estimators = 100,\n",
    "            min_samples_split = 6,\n",
    "            max_features = 'sqrt',\n",
    "            max_samples = .5,\n",
    "        random_state=20)\n",
    "# train model on full training set\n",
    "rf.fit(X_train, y_train)"
   ]
  },
  {
   "cell_type": "markdown",
   "metadata": {},
   "source": [
    "### Predict"
   ]
  },
  {
   "cell_type": "code",
   "execution_count": 38,
   "metadata": {},
   "outputs": [
    {
     "name": "stdout",
     "output_type": "stream",
     "text": [
      "No information rate: 0.64\n",
      "Total accuracy of model: 0.68\n"
     ]
    }
   ],
   "source": [
    "# predictions from RF model\n",
    "y_pred_rf = rf.predict(X_test)\n",
    "error = np.sum(abs(y_pred_rf-y_test[y_test.columns[0]]))/len(y_test)\n",
    "\n",
    "# Look at accuracy vs. no-information rate\n",
    "print('No information rate:', no_info_rate)\n",
    "print('Total accuracy of model:', round(1-error, 2))"
   ]
  },
  {
   "cell_type": "code",
   "execution_count": 39,
   "metadata": {},
   "outputs": [
    {
     "name": "stdout",
     "output_type": "stream",
     "text": [
      "              precision    recall  f1-score   support\n",
      "\n",
      "           0       0.69      0.91      0.78       448\n",
      "           1       0.62      0.27      0.38       251\n",
      "\n",
      "    accuracy                           0.68       699\n",
      "   macro avg       0.66      0.59      0.58       699\n",
      "weighted avg       0.67      0.68      0.64       699\n",
      "\n"
     ]
    }
   ],
   "source": [
    "# classification report\n",
    "print(classification_report(y_test,np.round(y_pred_rf,0)))"
   ]
  },
  {
   "cell_type": "markdown",
   "metadata": {},
   "source": [
    "### Visualize"
   ]
  },
  {
   "cell_type": "code",
   "execution_count": 40,
   "metadata": {},
   "outputs": [],
   "source": [
    "# big tree visualizations\n",
    "tree = rf.estimators_[5]\n",
    "export_graphviz(tree, out_file = 'img/tree.dot', feature_names = X_train.columns.to_list(), rounded = True, precision = 1)\n",
    "(graph, ) = pydot.graph_from_dot_file('img/tree.dot')\n",
    "graph.write_png('img/tree.png')"
   ]
  },
  {
   "cell_type": "code",
   "execution_count": 41,
   "metadata": {},
   "outputs": [],
   "source": [
    "# small tree visualizations\n",
    "rf_small = RandomForestClassifier(n_estimators=10, max_depth = 3)\n",
    "rf_small.fit(X_train, y_train)\n",
    "tree_small = rf_small.estimators_[5]\n",
    "export_graphviz(tree_small, out_file = 'img/small_tree.dot', feature_names = X_train.columns.to_list(), rounded = True, precision = 1)\n",
    "(graph, ) = pydot.graph_from_dot_file('img/small_tree.dot')\n",
    "graph.write_png('img/small_tree.png')"
   ]
  },
  {
   "cell_type": "code",
   "execution_count": 42,
   "metadata": {},
   "outputs": [
    {
     "data": {
      "text/plain": [
       "['Variable: young adult          Importance: 0.13',\n",
       " 'Variable: signs_of_mental_illness Importance: 0.09',\n",
       " 'Variable: adult                Importance: 0.08',\n",
       " 'Variable: body_camera          Importance: 0.07',\n",
       " 'Variable: armed:r:gun          Importance: 0.07',\n",
       " 'Variable: summer               Importance: 0.05',\n",
       " 'Variable: fall                 Importance: 0.05',\n",
       " 'Variable: winter               Importance: 0.05',\n",
       " 'Variable: flee:Foot            Importance: 0.05',\n",
       " 'Variable: threat_level:attack  Importance: 0.05',\n",
       " 'Variable: state:almost_all_white Importance: 0.05',\n",
       " 'Variable: state:majority_white Importance: 0.05',\n",
       " 'Variable: flee:Not fleeing     Importance: 0.04',\n",
       " 'Variable: threat_level:other   Importance: 0.04',\n",
       " 'Variable: armed:r:unarmed      Importance: 0.04',\n",
       " 'Variable: gender:M             Importance: 0.03',\n",
       " 'Variable: flee:Car             Importance: 0.03',\n",
       " 'Variable: flee:Other           Importance: 0.02',\n",
       " 'Variable: child                Importance: 0.01']"
      ]
     },
     "execution_count": 42,
     "metadata": {},
     "output_type": "execute_result"
    }
   ],
   "source": [
    "# feature importances\n",
    "importances = list(rf.feature_importances_)\n",
    "feature_importances = [(feature, round(importance, 2)) for feature, importance in zip(X_train.columns.to_list(), importances)]\n",
    "feature_importances = sorted(feature_importances, key = lambda x: x[1], reverse = True)\n",
    "['Variable: {:20} Importance: {}'.format(*pair) for pair in feature_importances]"
   ]
  },
  {
   "cell_type": "code",
   "execution_count": 43,
   "metadata": {},
   "outputs": [
    {
     "data": {
      "text/plain": [
       "Text(0.5, 1.0, 'Variable Importances')"
      ]
     },
     "execution_count": 43,
     "metadata": {},
     "output_type": "execute_result"
    },
    {
     "data": {
      "image/png": "[encoded data removed]",
      "text/plain": [
       "<Figure size 432x288 with 1 Axes>"
      ]
     },
     "metadata": {},
     "output_type": "display_data"
    }
   ],
   "source": [
    "# feature importance vis\n",
    "%matplotlib inline\n",
    "plt.style.use('fivethirtyeight')\n",
    "x_values = list(range(len(importances)))\n",
    "plt.bar(x_values, importances, orientation = 'vertical')\n",
    "plt.xticks(x_values, X_train.columns.to_list(), rotation='vertical')\n",
    "plt.ylabel('Importance'); plt.xlabel('Variable'); plt.title('Variable Importances')\n",
    "plt.savefig('img/feature_importance.png')"
   ]
  },
  {
   "cell_type": "code",
   "execution_count": null,
   "metadata": {},
   "outputs": [],
   "source": []
  }
 ],
 "metadata": {
  "kernelspec": {
   "display_name": "Python 3",
   "language": "python",
   "name": "python3"
  },
  "language_info": {
   "codemirror_mode": {
    "name": "ipython",
    "version": 3
   },
   "file_extension": ".py",
   "mimetype": "text/x-python",
   "name": "python",
   "nbconvert_exporter": "python",
   "pygments_lexer": "ipython3",
   "version": "3.7.4"
  }
 },
 "nbformat": 4,
 "nbformat_minor": 4
}
